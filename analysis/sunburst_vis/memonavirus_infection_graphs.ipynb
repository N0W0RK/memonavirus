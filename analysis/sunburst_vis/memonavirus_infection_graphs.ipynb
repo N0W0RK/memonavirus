{
 "cells": [
  {
   "cell_type": "code",
   "execution_count": 3,
   "metadata": {},
   "outputs": [
    {
     "name": "stdout",
     "output_type": "stream",
     "text": [
      "memes_comments.20.19.log    memes_infections.20.20.log\r\n",
      "memes_comments.20.20.log    memes_infections.20.21.log\r\n",
      "memes_comments.20.21.log    memes_infections.20.22.log\r\n",
      "memes_comments.20.22.log    memes_infections.20.23.log\r\n",
      "memes_comments.20.23.log    memes_infections.21.0.log\r\n",
      "memes_comments.21.0.log     memes_infections.21.10.log\r\n",
      "memes_comments.21.10.log    memes_infections.21.11.log\r\n",
      "memes_comments.21.11.log    memes_infections.21.1.log\r\n",
      "memes_comments.21.1.log     memes_infections.21.2.log\r\n",
      "memes_comments.21.2.log     memes_infections.21.3.log\r\n",
      "memes_comments.21.3.log     memes_infections.21.4.log\r\n",
      "memes_comments.21.4.log     memes_infections.21.5.log\r\n",
      "memes_comments.21.5.log     memes_infections.21.6.log\r\n",
      "memes_comments.21.6.log     memes_infections.21.7.log\r\n",
      "memes_comments.21.7.log     memes_infections.21.8.log\r\n",
      "memes_comments.21.8.log     memes_infections.21.9.log\r\n",
      "memes_comments.21.9.log     README.md\r\n",
      "memes_infections.20.19.log\r\n"
     ]
    }
   ],
   "source": [
    "!ls ../data/"
   ]
  },
  {
   "cell_type": "code",
   "execution_count": 1,
   "metadata": {},
   "outputs": [],
   "source": [
    "# imports\n",
    "\n",
    "%matplotlib inline\n",
    "\n",
    "# import codecs\n",
    "import pandas\n",
    "import glob\n",
    "\n",
    "# import networkx as nx\n",
    "# import plotly.graph_objects as go\n",
    "import plotly.express as px"
   ]
  },
  {
   "cell_type": "code",
   "execution_count": 64,
   "metadata": {},
   "outputs": [
    {
     "data": {
      "text/plain": [
       "['../data/memes_infections.20.19.log',\n",
       " '../data/memes_infections.20.20.log',\n",
       " '../data/memes_infections.20.21.log',\n",
       " '../data/memes_infections.20.22.log',\n",
       " '../data/memes_infections.20.23.log',\n",
       " '../data/memes_infections.21.0.log',\n",
       " '../data/memes_infections.21.1.log',\n",
       " '../data/memes_infections.21.10.log',\n",
       " '../data/memes_infections.21.11.log',\n",
       " '../data/memes_infections.21.2.log',\n",
       " '../data/memes_infections.21.3.log',\n",
       " '../data/memes_infections.21.4.log',\n",
       " '../data/memes_infections.21.5.log',\n",
       " '../data/memes_infections.21.6.log',\n",
       " '../data/memes_infections.21.7.log',\n",
       " '../data/memes_infections.21.8.log',\n",
       " '../data/memes_infections.21.9.log']"
      ]
     },
     "execution_count": 64,
     "metadata": {},
     "output_type": "execute_result"
    }
   ],
   "source": [
    "glob.glob('../data/memes_infections*.log')"
   ]
  },
  {
   "cell_type": "code",
   "execution_count": 2,
   "metadata": {},
   "outputs": [
    {
     "data": {
      "text/html": [
       "<div>\n",
       "<style scoped>\n",
       "    .dataframe tbody tr th:only-of-type {\n",
       "        vertical-align: middle;\n",
       "    }\n",
       "\n",
       "    .dataframe tbody tr th {\n",
       "        vertical-align: top;\n",
       "    }\n",
       "\n",
       "    .dataframe thead th {\n",
       "        text-align: right;\n",
       "    }\n",
       "</style>\n",
       "<table border=\"1\" class=\"dataframe\">\n",
       "  <thead>\n",
       "    <tr style=\"text-align: right;\">\n",
       "      <th></th>\n",
       "      <th>post_dt</th>\n",
       "      <th>infectee_name</th>\n",
       "      <th>infectee_post_id</th>\n",
       "      <th>infector_name</th>\n",
       "      <th>infector_post_id</th>\n",
       "      <th>comment_or_submission</th>\n",
       "    </tr>\n",
       "  </thead>\n",
       "  <tbody>\n",
       "    <tr>\n",
       "      <th>0</th>\n",
       "      <td>2020-03-20 20:35:13.853753</td>\n",
       "      <td>u/austind9999</td>\n",
       "      <td>fl2h4gq</td>\n",
       "      <td>u/woodendoors7</td>\n",
       "      <td>fl2gay3</td>\n",
       "      <td>C</td>\n",
       "    </tr>\n",
       "    <tr>\n",
       "      <th>1</th>\n",
       "      <td>2020-03-20 20:37:34.242409</td>\n",
       "      <td>u/unclerico589</td>\n",
       "      <td>fl2hcd5</td>\n",
       "      <td>u/woodendoors7</td>\n",
       "      <td>fl2f39v</td>\n",
       "      <td>C</td>\n",
       "    </tr>\n",
       "    <tr>\n",
       "      <th>2</th>\n",
       "      <td>2020-03-20 20:40:43.198092</td>\n",
       "      <td>u/saikmat</td>\n",
       "      <td>fl2hmgw</td>\n",
       "      <td>u/woodendoors7</td>\n",
       "      <td>fl2hgh0</td>\n",
       "      <td>C</td>\n",
       "    </tr>\n",
       "    <tr>\n",
       "      <th>3</th>\n",
       "      <td>2020-03-20 20:45:22.757004</td>\n",
       "      <td>u/Nash_underscore</td>\n",
       "      <td>fl2hzd9</td>\n",
       "      <td>u/woodendoors7</td>\n",
       "      <td>fl2hyeu</td>\n",
       "      <td>C</td>\n",
       "    </tr>\n",
       "    <tr>\n",
       "      <th>4</th>\n",
       "      <td>2020-03-20 20:45:27.696972</td>\n",
       "      <td>u/Ben_Herr</td>\n",
       "      <td>fl2hzng</td>\n",
       "      <td>u/woodendoors7</td>\n",
       "      <td>fl2gf3a</td>\n",
       "      <td>C</td>\n",
       "    </tr>\n",
       "  </tbody>\n",
       "</table>\n",
       "</div>"
      ],
      "text/plain": [
       "                     post_dt      infectee_name infectee_post_id  \\\n",
       "0 2020-03-20 20:35:13.853753      u/austind9999          fl2h4gq   \n",
       "1 2020-03-20 20:37:34.242409     u/unclerico589          fl2hcd5   \n",
       "2 2020-03-20 20:40:43.198092          u/saikmat          fl2hmgw   \n",
       "3 2020-03-20 20:45:22.757004  u/Nash_underscore          fl2hzd9   \n",
       "4 2020-03-20 20:45:27.696972         u/Ben_Herr          fl2hzng   \n",
       "\n",
       "    infector_name infector_post_id comment_or_submission  \n",
       "0  u/woodendoors7          fl2gay3                     C  \n",
       "1  u/woodendoors7          fl2f39v                     C  \n",
       "2  u/woodendoors7          fl2hgh0                     C  \n",
       "3  u/woodendoors7          fl2hyeu                     C  \n",
       "4  u/woodendoors7          fl2gf3a                     C  "
      ]
     },
     "execution_count": 2,
     "metadata": {},
     "output_type": "execute_result"
    }
   ],
   "source": [
    "# doc = codecs.open('../data/memes_infections.20.20.log','rU','UTF-16')\n",
    "all_files = glob.glob('../data/memes_infections*.log')\n",
    "get_file = lambda fname: pandas.read_csv(\n",
    "    fname,\n",
    "    sep='\\t',\n",
    "    header=None,\n",
    "    names=['post_dt',\n",
    "            'infectee_name',\n",
    "            'infectee_post_id',\n",
    "            'infector_name',\n",
    "            'infector_post_id',\n",
    "            'comment_or_submission'],\n",
    "    parse_dates=['post_dt']\n",
    ")\n",
    "df = pandas.concat([get_file(f) for f in all_files])\n",
    "df.sort_values('post_dt')\n",
    "df.head()"
   ]
  },
  {
   "cell_type": "code",
   "execution_count": 50,
   "metadata": {},
   "outputs": [
    {
     "data": {
      "text/html": [
       "<div>\n",
       "<style scoped>\n",
       "    .dataframe tbody tr th:only-of-type {\n",
       "        vertical-align: middle;\n",
       "    }\n",
       "\n",
       "    .dataframe tbody tr th {\n",
       "        vertical-align: top;\n",
       "    }\n",
       "\n",
       "    .dataframe thead th {\n",
       "        text-align: right;\n",
       "    }\n",
       "</style>\n",
       "<table border=\"1\" class=\"dataframe\">\n",
       "  <thead>\n",
       "    <tr style=\"text-align: right;\">\n",
       "      <th></th>\n",
       "      <th>post_dt</th>\n",
       "      <th>infectee_name</th>\n",
       "      <th>infectee_post_id</th>\n",
       "      <th>infector_name</th>\n",
       "      <th>infector_post_id</th>\n",
       "      <th>comment_or_submission</th>\n",
       "    </tr>\n",
       "  </thead>\n",
       "  <tbody>\n",
       "    <tr>\n",
       "      <th>0</th>\n",
       "      <td>2020-03-20 20:35:13.853753</td>\n",
       "      <td>u/austind9999</td>\n",
       "      <td>fl2h4gq</td>\n",
       "      <td>u/woodendoors7</td>\n",
       "      <td>fl2gay3</td>\n",
       "      <td>C</td>\n",
       "    </tr>\n",
       "    <tr>\n",
       "      <th>1</th>\n",
       "      <td>2020-03-20 20:37:34.242409</td>\n",
       "      <td>u/unclerico589</td>\n",
       "      <td>fl2hcd5</td>\n",
       "      <td>u/woodendoors7</td>\n",
       "      <td>fl2f39v</td>\n",
       "      <td>C</td>\n",
       "    </tr>\n",
       "  </tbody>\n",
       "</table>\n",
       "</div>"
      ],
      "text/plain": [
       "                     post_dt   infectee_name infectee_post_id   infector_name  \\\n",
       "0 2020-03-20 20:35:13.853753   u/austind9999          fl2h4gq  u/woodendoors7   \n",
       "1 2020-03-20 20:37:34.242409  u/unclerico589          fl2hcd5  u/woodendoors7   \n",
       "\n",
       "  infector_post_id comment_or_submission  \n",
       "0          fl2gay3                     C  \n",
       "1          fl2f39v                     C  "
      ]
     },
     "execution_count": 50,
     "metadata": {},
     "output_type": "execute_result"
    }
   ],
   "source": [
    "# list(df.iterrows())[0][1].to_dict()\n",
    "# df[:2]"
   ]
  },
  {
   "cell_type": "code",
   "execution_count": 40,
   "metadata": {},
   "outputs": [],
   "source": [
    "# infection_graph = nx.DiGraph()\n",
    "\n",
    "# for index, row in df.iterrows():\n",
    "#     infection_graph.add_node(row.infector_name)\n",
    "#     infection_graph.add_node(row.infectee_name)\n",
    "#     infection_graph.add_edge(row.infector_name, row.infectee_name, **row.to_dict())\n",
    "# infection_graph.edges(data=True)"
   ]
  },
  {
   "cell_type": "code",
   "execution_count": 8,
   "metadata": {},
   "outputs": [],
   "source": [
    "data = {\n",
    "    'infectee': [],\n",
    "    'infector': [],\n",
    "    'value': []\n",
    "}\n",
    "\n",
    "infections = {}\n",
    "\n",
    "for index, row in df.iterrows():\n",
    "    data['infector'].append(row.infector_name)\n",
    "    if row.infector_name not in infections:\n",
    "        infections[row.infector_name] = None\n",
    "    data['infectee'].append(row.infectee_name)\n",
    "    data['value'].append(1)\n",
    "    infections[row.infectee_name] = row.infector_name\n",
    "\n",
    "for infectee, infector in infections.items():\n",
    "    if infector is None:\n",
    "        data['infector'] = [''] + data['infector']\n",
    "        data['infectee'] = [infectee] + data['infectee']\n",
    "        data['value'] = [1] + data['value']\n",
    "\n",
    "fig = px.sunburst(\n",
    "    data,\n",
    "    names='infectee',\n",
    "    parents='infector',\n",
    "    values='value',\n",
    ")"
   ]
  },
  {
   "cell_type": "code",
   "execution_count": 9,
   "metadata": {},
   "outputs": [],
   "source": [
    "fig.write_image('plot.png', width=1200, height=1200, scale=5)"
   ]
  }
 ],
 "metadata": {
  "kernelspec": {
   "display_name": "Python 3",
   "language": "python",
   "name": "python3"
  },
  "language_info": {
   "codemirror_mode": {
    "name": "ipython",
    "version": 3
   },
   "file_extension": ".py",
   "mimetype": "text/x-python",
   "name": "python",
   "nbconvert_exporter": "python",
   "pygments_lexer": "ipython3",
   "version": "3.5.3"
  }
 },
 "nbformat": 4,
 "nbformat_minor": 4
}
